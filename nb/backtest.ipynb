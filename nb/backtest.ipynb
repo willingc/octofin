{
 "cells": [
  {
   "cell_type": "code",
   "execution_count": null,
   "id": "3a457721-a5e3-462b-8a76-378bf4e3e7a2",
   "metadata": {},
   "outputs": [],
   "source": [
    "!pip install backtesting"
   ]
  },
  {
   "cell_type": "code",
   "execution_count": null,
   "id": "e27e0f5f-8c3c-4cc6-84a3-2d41a895b3ee",
   "metadata": {},
   "outputs": [],
   "source": [
    "!pip install ta"
   ]
  },
  {
   "cell_type": "code",
   "execution_count": null,
   "id": "58022687-200a-4207-883c-78b85946d52b",
   "metadata": {},
   "outputs": [],
   "source": [
    "!pip install yfinance"
   ]
  },
  {
   "cell_type": "code",
   "execution_count": null,
   "id": "50bd8864-bd49-42f9-961f-a0f8847ef5a6",
   "metadata": {},
   "outputs": [],
   "source": [
    "import yfinance as yf\n",
    "import ta\n",
    "import pandas as pd\n",
    "from backtesting import Backtest, Strategy\n",
    "from backtesting.lib import crossover"
   ]
  },
  {
   "cell_type": "code",
   "execution_count": null,
   "id": "59b81224-2100-4a44-9bae-ac948d973a2d",
   "metadata": {},
   "outputs": [],
   "source": [
    "class SMAcross(Strategy):\n",
    "    n1 = 50\n",
    "    n2 = 100\n",
    "\n",
    "    def init(self):\n",
    "        close = self.data.Close\n",
    "        self.sma1 = self.I(ta.trend.sma_indicator, pd.Series(close), self.n1)\n",
    "        self.sma2 = self.I(ta.trend.sma_indicator, pd.Series(close), self.n2)\n",
    "\n",
    "    def next(self):\n",
    "        if crossover(self.sma1, self.sma2):\n",
    "            self.buy()\n",
    "        elif crossover(self.sma2, self.sma1):\n",
    "            self.sell()\n",
    "\n"
   ]
  },
  {
   "cell_type": "code",
   "execution_count": null,
   "id": "4d4243d0-c45e-48e8-92be-530f2dc03318",
   "metadata": {},
   "outputs": [],
   "source": [
    "df = yf.download('tdg', start='2020-01-01')"
   ]
  },
  {
   "cell_type": "code",
   "execution_count": null,
   "id": "23b68cb2-f9ee-4dc6-85cd-801a07ea5fa1",
   "metadata": {},
   "outputs": [],
   "source": [
    "bt = Backtest(df, SMAcross, cash=100000, commission=0.002, exclusive_orders=True)"
   ]
  },
  {
   "cell_type": "code",
   "execution_count": null,
   "id": "e42025ba-7bf9-42c0-979b-92b5d75d49ef",
   "metadata": {},
   "outputs": [],
   "source": [
    "output = bt.run()"
   ]
  },
  {
   "cell_type": "code",
   "execution_count": null,
   "id": "82e6fdd5-5033-41e9-93aa-b488a1f7fc62",
   "metadata": {},
   "outputs": [],
   "source": [
    "output"
   ]
  },
  {
   "cell_type": "code",
   "execution_count": null,
   "id": "3238e035-b4a9-400b-a444-180c4dc45076",
   "metadata": {},
   "outputs": [],
   "source": [
    "bt.plot()"
   ]
  },
  {
   "cell_type": "code",
   "execution_count": null,
   "id": "79cd7dc4-63eb-49bf-b88a-0266bcd57689",
   "metadata": {},
   "outputs": [],
   "source": [
    "optim = bt.optimize(n1 = range(50, 160, 10),\n",
    "                    n2 = range(50, 160, 10),\n",
    "                    constraint = lambda x: x.n2 - x.n1 > 20,\n",
    "                    maximize='Return [%]')\n",
    "bt.plot()"
   ]
  },
  {
   "cell_type": "code",
   "execution_count": null,
   "id": "3f962bb8-5fe5-4dea-8f5d-ba2873867c2f",
   "metadata": {},
   "outputs": [],
   "source": [
    "optim"
   ]
  },
  {
   "cell_type": "code",
   "execution_count": null,
   "id": "ef48a61e-811d-4eca-a05c-9117b16be929",
   "metadata": {},
   "outputs": [],
   "source": [
    "optim = bt.optimize(n1 = range(50, 160, 10),\n",
    "                    n2 = range(50, 160, 10),\n",
    "                    constraint = lambda x: x.n2 - x.n1 > 20,\n",
    "                    maximize='Win Rate [%]')\n",
    "bt.plot()"
   ]
  },
  {
   "cell_type": "code",
   "execution_count": null,
   "id": "288ada5d-936f-4163-91ed-12e3ea21f835",
   "metadata": {},
   "outputs": [],
   "source": [
    "optim"
   ]
  },
  {
   "cell_type": "code",
   "execution_count": null,
   "id": "3e9aa5f4-1801-479f-afc0-d61f65535c80",
   "metadata": {},
   "outputs": [],
   "source": []
  }
 ],
 "metadata": {
  "kernelspec": {
   "display_name": "Python 3 (ipykernel)",
   "language": "python",
   "name": "python3"
  },
  "language_info": {
   "codemirror_mode": {
    "name": "ipython",
    "version": 3
   },
   "file_extension": ".py",
   "mimetype": "text/x-python",
   "name": "python",
   "nbconvert_exporter": "python",
   "pygments_lexer": "ipython3",
   "version": "3.12.0"
  }
 },
 "nbformat": 4,
 "nbformat_minor": 5
}
