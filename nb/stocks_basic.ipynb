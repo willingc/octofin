{
 "cells": [
  {
   "cell_type": "code",
   "execution_count": null,
   "id": "1991d0b8-3b82-43a8-82ef-9bab48c7d1b6",
   "metadata": {},
   "outputs": [],
   "source": [
    "import yfinance as yf"
   ]
  },
  {
   "cell_type": "code",
   "execution_count": null,
   "id": "3a659501-3a94-4007-9188-4ee792105b88",
   "metadata": {},
   "outputs": [],
   "source": [
    "TICKER = \"tdg\""
   ]
  },
  {
   "cell_type": "code",
   "execution_count": null,
   "id": "6033a63a-c94f-4d46-932f-19064d4e2b2a",
   "metadata": {},
   "outputs": [],
   "source": [
    "stock = yf.Ticker(TICKER)"
   ]
  },
  {
   "cell_type": "code",
   "execution_count": null,
   "id": "6498af63-dd4e-421f-8b14-6fcfe28427a5",
   "metadata": {},
   "outputs": [],
   "source": [
    "# get all stock info\n",
    "stock.info"
   ]
  },
  {
   "cell_type": "code",
   "execution_count": null,
   "id": "828593cd-eb6c-4fe6-b112-cd0405a9b0ec",
   "metadata": {},
   "outputs": [],
   "source": [
    "# get historical market data (for example, past month)\n",
    "hist = stock.history(period=\"1mo\")"
   ]
  },
  {
   "cell_type": "code",
   "execution_count": null,
   "id": "633cbc34-d80f-430e-ae68-8c115399605a",
   "metadata": {},
   "outputs": [],
   "source": [
    "# show meta information about the history (need to call history() first)\n",
    "stock.history_metadata"
   ]
  },
  {
   "cell_type": "code",
   "execution_count": null,
   "id": "6464dbac-fd43-4298-befa-7f0490db9a21",
   "metadata": {},
   "outputs": [],
   "source": [
    "# show actions"
   ]
  },
  {
   "cell_type": "code",
   "execution_count": null,
   "id": "f6e4b69e-dcb5-4eed-942b-4889ca75c94c",
   "metadata": {},
   "outputs": [],
   "source": [
    "stock.actions"
   ]
  },
  {
   "cell_type": "code",
   "execution_count": null,
   "id": "92e738a1-ef46-40f8-acbe-992e0577013b",
   "metadata": {},
   "outputs": [],
   "source": [
    "stock.dividends"
   ]
  },
  {
   "cell_type": "code",
   "execution_count": null,
   "id": "a58a4587-a958-46ec-a905-9611199c7f58",
   "metadata": {},
   "outputs": [],
   "source": [
    "stock.splits"
   ]
  },
  {
   "cell_type": "code",
   "execution_count": null,
   "id": "01692314-c782-40ab-b7df-42d729ef9257",
   "metadata": {},
   "outputs": [],
   "source": [
    "stock.capital_gains"
   ]
  },
  {
   "cell_type": "code",
   "execution_count": null,
   "id": "5a672264-3b56-4c5e-b1e6-7583d7af02c5",
   "metadata": {},
   "outputs": [],
   "source": [
    "# show share count\n",
    "stock.get_shares_full(start=\"2023-01-01\", end=None)"
   ]
  },
  {
   "cell_type": "code",
   "execution_count": null,
   "id": "9a78f989-8d30-49a9-b7ee-f3ef49319eb3",
   "metadata": {},
   "outputs": [],
   "source": [
    "# show financials"
   ]
  },
  {
   "cell_type": "code",
   "execution_count": null,
   "id": "a8b8706a-22c3-432f-87ae-9c58e6d2a18a",
   "metadata": {},
   "outputs": [],
   "source": [
    "stock.income_stmt"
   ]
  },
  {
   "cell_type": "code",
   "execution_count": null,
   "id": "1ae9a182-f972-4f65-9053-09692cee1d69",
   "metadata": {},
   "outputs": [],
   "source": [
    "stock.quarterly_income_stmt"
   ]
  },
  {
   "cell_type": "code",
   "execution_count": null,
   "id": "5ae89c10-a02e-4b8a-88c1-8ef7a3d56d59",
   "metadata": {},
   "outputs": [],
   "source": [
    "stock.balance_sheet"
   ]
  },
  {
   "cell_type": "code",
   "execution_count": null,
   "id": "cc9c1297-a336-497d-a852-9ec65ea7264a",
   "metadata": {},
   "outputs": [],
   "source": [
    "stock.quarterly_balance_sheet"
   ]
  },
  {
   "cell_type": "code",
   "execution_count": null,
   "id": "0ece4be9-054b-4206-903b-d05627edef7c",
   "metadata": {},
   "outputs": [],
   "source": [
    "stock.quarterly_balance_sheet"
   ]
  },
  {
   "cell_type": "code",
   "execution_count": null,
   "id": "573ecf25-4106-4a43-841f-8aead169ceae",
   "metadata": {},
   "outputs": [],
   "source": [
    "stock.cashflow"
   ]
  },
  {
   "cell_type": "code",
   "execution_count": null,
   "id": "ccb93880-3608-42c6-8c3a-124e7782a1f1",
   "metadata": {},
   "outputs": [],
   "source": [
    "stock.quarterly_cash_flow"
   ]
  },
  {
   "cell_type": "code",
   "execution_count": null,
   "id": "1e651be1-790a-47ef-89d8-cd48ca4f4106",
   "metadata": {},
   "outputs": [],
   "source": [
    "# Show holders"
   ]
  },
  {
   "cell_type": "code",
   "execution_count": null,
   "id": "8c670968-1b59-4934-8776-bc2b196b686f",
   "metadata": {},
   "outputs": [],
   "source": [
    "stock.major_holders"
   ]
  },
  {
   "cell_type": "code",
   "execution_count": null,
   "id": "86676d51-c71b-472d-bda6-fe59827d5a1c",
   "metadata": {},
   "outputs": [],
   "source": [
    "stock.institutional_holders"
   ]
  },
  {
   "cell_type": "code",
   "execution_count": null,
   "id": "9a76786a-2e3f-491e-9eff-37ae78ddb283",
   "metadata": {},
   "outputs": [],
   "source": [
    "stock.mutualfund_holders"
   ]
  },
  {
   "cell_type": "code",
   "execution_count": null,
   "id": "f86b463d-43f1-439d-a051-6834b5d65e11",
   "metadata": {},
   "outputs": [],
   "source": [
    "stock.insider_transactions"
   ]
  },
  {
   "cell_type": "code",
   "execution_count": null,
   "id": "91bd88d1-9b71-47c0-8d35-da12b49af1a4",
   "metadata": {},
   "outputs": [],
   "source": [
    "stock.insider_purchases"
   ]
  },
  {
   "cell_type": "code",
   "execution_count": null,
   "id": "5a15ec33-f718-4d5a-848f-894f06a0b38e",
   "metadata": {},
   "outputs": [],
   "source": [
    "stock.insider_roster_holders"
   ]
  },
  {
   "cell_type": "code",
   "execution_count": null,
   "id": "fd6c6f9a-c0c5-4237-9842-52622034d2de",
   "metadata": {},
   "outputs": [],
   "source": [
    "# show recommendations"
   ]
  },
  {
   "cell_type": "code",
   "execution_count": null,
   "id": "67dcb34d-8864-4f1b-aa85-73698c356634",
   "metadata": {},
   "outputs": [],
   "source": [
    "stock.recommendations"
   ]
  },
  {
   "cell_type": "code",
   "execution_count": null,
   "id": "e1b23c17-86e1-43cf-9d23-d9c576a420fe",
   "metadata": {},
   "outputs": [],
   "source": [
    "stock.recommendations_summary"
   ]
  },
  {
   "cell_type": "code",
   "execution_count": null,
   "id": "b5851bbb-3e61-43c8-8bad-322164d9b8f0",
   "metadata": {},
   "outputs": [],
   "source": [
    "stock.upgrades_downgrades"
   ]
  },
  {
   "cell_type": "code",
   "execution_count": null,
   "id": "39a01213-4db6-47d9-a8e4-1d4926dfcebb",
   "metadata": {},
   "outputs": [],
   "source": [
    "# earnings dates\n",
    "stock.earnings_dates"
   ]
  },
  {
   "cell_type": "code",
   "execution_count": null,
   "id": "ed4e9cca-b230-44d3-8d46-9b2739df9f54",
   "metadata": {},
   "outputs": [],
   "source": [
    "stock.isin"
   ]
  },
  {
   "cell_type": "code",
   "execution_count": null,
   "id": "f1aec8aa-229f-4b57-bbb1-513d4d68b969",
   "metadata": {},
   "outputs": [],
   "source": [
    "stock.options"
   ]
  },
  {
   "cell_type": "code",
   "execution_count": null,
   "id": "d8727070-9b8a-49ba-82ae-5a598198eae7",
   "metadata": {},
   "outputs": [],
   "source": [
    "stock.news"
   ]
  },
  {
   "cell_type": "code",
   "execution_count": null,
   "id": "0444784a-a4df-4d83-af08-bfac3399da41",
   "metadata": {},
   "outputs": [],
   "source": []
  }
 ],
 "metadata": {
  "kernelspec": {
   "display_name": "Python 3 (ipykernel)",
   "language": "python",
   "name": "python3"
  },
  "language_info": {
   "codemirror_mode": {
    "name": "ipython",
    "version": 3
   },
   "file_extension": ".py",
   "mimetype": "text/x-python",
   "name": "python",
   "nbconvert_exporter": "python",
   "pygments_lexer": "ipython3",
   "version": "3.12.0"
  }
 },
 "nbformat": 4,
 "nbformat_minor": 5
}
